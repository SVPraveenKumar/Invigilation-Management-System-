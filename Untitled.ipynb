{
 "cells": [
  {
   "cell_type": "code",
   "execution_count": 2,
   "metadata": {},
   "outputs": [
    {
     "ename": "SyntaxError",
     "evalue": "Missing parentheses in call to 'print'. Did you mean print(if added: print \"Added\")? (<ipython-input-2-2df84e229f11>, line 43)",
     "output_type": "error",
     "traceback": [
      "\u001b[1;36m  File \u001b[1;32m\"<ipython-input-2-2df84e229f11>\"\u001b[1;36m, line \u001b[1;32m43\u001b[0m\n\u001b[1;33m    if added: print \"Added\"\u001b[0m\n\u001b[1;37m                          ^\u001b[0m\n\u001b[1;31mSyntaxError\u001b[0m\u001b[1;31m:\u001b[0m Missing parentheses in call to 'print'. Did you mean print(if added: print \"Added\")?\n"
     ]
    }
   ],
   "source": [
    "import os\n",
    "\n",
    "import win32file\n",
    "import win32event\n",
    "import win32con\n",
    "\n",
    "path_to_watch = os.path.abspath (\"C:\\wamp64\\www\\Software2\")\n",
    "\n",
    "#\n",
    "# FindFirstChangeNotification sets up a handle for watching\n",
    "#  file changes. The first parameter is the path to be\n",
    "#  watched; the second is a boolean indicating whether the\n",
    "#  directories underneath the one specified are to be watched;\n",
    "#  the third is a list of flags as to what kind of changes to\n",
    "#  watch for. We're just looking at file additions / deletions.\n",
    "#\n",
    "change_handle = win32file.FindFirstChangeNotification (\n",
    "  path_to_watch,\n",
    "  0,\n",
    "  win32con.FILE_NOTIFY_CHANGE_FILE_NAME\n",
    ")\n",
    "\n",
    "#\n",
    "# Loop forever, listing any file changes. The WaitFor... will\n",
    "#  time out every half a second allowing for keyboard interrupts\n",
    "#  to terminate the loop.\n",
    "#\n",
    "try:\n",
    "\n",
    "  old_path_contents = dict ([(f, None) for f in os.listdir (path_to_watch)])\n",
    "  while 1:\n",
    "    result = win32event.WaitForSingleObject (change_handle, 500)\n",
    "\n",
    "    #\n",
    "    # If the WaitFor... returned because of a notification (as\n",
    "    #  opposed to timing out or some error) then look for the\n",
    "    #  changes in the directory contents.\n",
    "    #\n",
    "    if result == win32con.WAIT_OBJECT_0:\n",
    "      new_path_contents = dict ([(f, None) for f in os.listdir (path_to_watch)])\n",
    "      added = [f for f in new_path_contents if not f in old_path_contents]\n",
    "      deleted = [f for f in old_path_contents if not f in new_path_contents]\n",
    "      if added: print(\"Added\")\n",
    "      if deleted: print(\"Deleted\"\n",
    "\n",
    "      old_path_contents = new_path_contents\n",
    "      win32file.FindNextChangeNotification (change_handle)\n",
    "\n",
    "finally:\n",
    "  win32file.FindCloseChangeNotification (change_handle)"
   ]
  },
  {
   "cell_type": "code",
   "execution_count": null,
   "metadata": {},
   "outputs": [],
   "source": []
  }
 ],
 "metadata": {
  "kernelspec": {
   "display_name": "Python 3",
   "language": "python",
   "name": "python3"
  },
  "language_info": {
   "codemirror_mode": {
    "name": "ipython",
    "version": 3
   },
   "file_extension": ".py",
   "mimetype": "text/x-python",
   "name": "python",
   "nbconvert_exporter": "python",
   "pygments_lexer": "ipython3",
   "version": "3.6.3"
  }
 },
 "nbformat": 4,
 "nbformat_minor": 2
}
